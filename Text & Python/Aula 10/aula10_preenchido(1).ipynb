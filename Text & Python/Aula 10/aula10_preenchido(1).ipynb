{
 "cells": [
  {
   "cell_type": "markdown",
   "id": "comprehensive-turkey",
   "metadata": {},
   "source": [
    "# Análise de texto de fontes desestruturadas e Web\n",
    "\n",
    "## Aula 10\n",
    "\n",
    "Nesta aula vamos fazer nossa primeira aplicação prática de Machine Learning.\n",
    "\n",
    "A biblioteca utilizada será a **scikit-learn**.\n",
    "\n",
    "Para conhecer mais sobre ela, acesse https://scikit-learn.org/stable/tutorial/basic/tutorial.html"
   ]
  },
  {
   "cell_type": "markdown",
   "id": "9cf212a1",
   "metadata": {},
   "source": [
    "## Baixar os dados no Colab\n",
    "Para baixar os dados no colab, utilize"
   ]
  },
  {
   "cell_type": "code",
   "execution_count": null,
   "id": "f46e0884",
   "metadata": {},
   "outputs": [],
   "source": [
    "!wget https://atd-insper.s3.us-east-2.amazonaws.com/aula10/noticias.csv\n",
    "!wget https://atd-insper.s3.us-east-2.amazonaws.com/aula10/noticias.xlsx"
   ]
  },
  {
   "cell_type": "markdown",
   "id": "weird-patrol",
   "metadata": {},
   "source": [
    "## Importando as bibliotecas necessárias\n",
    "\n",
    "Agora, vamos importar as bibliotecas necessárias:"
   ]
  },
  {
   "cell_type": "code",
   "execution_count": 1,
   "id": "unlike-france",
   "metadata": {},
   "outputs": [],
   "source": [
    "# para trabalhar com diretórios / sistema operacional\n",
    "import os\n",
    "\n",
    "# para trabalhar com expressões regulares\n",
    "import re\n",
    "\n",
    "# utilizada para nos indicar o caminho do executável do Python\n",
    "import sys\n",
    "\n",
    "# para pandas DataFrame\n",
    "import pandas as pd\n",
    "\n",
    "# ML\n",
    "from sklearn.tree import DecisionTreeClassifier\n",
    "from sklearn.model_selection import train_test_split\n",
    "from sklearn.metrics import accuracy_score\n"
   ]
  },
  {
   "cell_type": "markdown",
   "id": "acquired-regard",
   "metadata": {},
   "source": [
    "Caso obtenha algum erro, utilize o **!pip install** para instalar a biblioteca ausente!"
   ]
  },
  {
   "cell_type": "markdown",
   "id": "fewer-voluntary",
   "metadata": {},
   "source": [
    "Você pode conferir de onde está executando o Python e qual a versão"
   ]
  },
  {
   "cell_type": "code",
   "execution_count": 2,
   "id": "aggregate-secondary",
   "metadata": {},
   "outputs": [
    {
     "name": "stdout",
     "output_type": "stream",
     "text": [
      "Executável:\n",
      "/home/calebe/anaconda3/envs/atd/bin/python\n",
      "\n",
      "Versão do Python:\n",
      "3.8.16 (default, Jan 17 2023, 23:13:24) \n",
      "[GCC 11.2.0]\n"
     ]
    }
   ],
   "source": [
    "print('Executável:')\n",
    "print(sys.executable)\n",
    "\n",
    "print('\\nVersão do Python:')\n",
    "print(sys.version)"
   ]
  },
  {
   "cell_type": "markdown",
   "id": "multiple-premium",
   "metadata": {},
   "source": [
    "Vamos conferir em qual diretório iremos trabalhar (é o diretório do notebook)"
   ]
  },
  {
   "cell_type": "code",
   "execution_count": 3,
   "id": "revolutionary-quantity",
   "metadata": {},
   "outputs": [
    {
     "name": "stdout",
     "output_type": "stream",
     "text": [
      "O seu notebook está na pasta:\n",
      "/home/calebe/Dropbox/insper/23_1/atd/aulas/aula10/notebooks\n"
     ]
    }
   ],
   "source": [
    "print('O seu notebook está na pasta:')\n",
    "print(os.getcwd())"
   ]
  },
  {
   "cell_type": "markdown",
   "id": "imposed-collective",
   "metadata": {},
   "source": [
    "# Carregando os dados\n",
    "\n",
    "Vamos abrir os dados que estão armazenados em planilhas. Você pode escolher a versão CSV ou XLSX"
   ]
  },
  {
   "cell_type": "code",
   "execution_count": 4,
   "id": "aboriginal-metallic",
   "metadata": {},
   "outputs": [],
   "source": [
    "df = pd.read_csv('noticias.csv')"
   ]
  },
  {
   "cell_type": "markdown",
   "id": "controlled-jersey",
   "metadata": {},
   "source": [
    "Caso prefira utilizar a versão Excel, abra com"
   ]
  },
  {
   "cell_type": "code",
   "execution_count": null,
   "id": "freelance-gates",
   "metadata": {},
   "outputs": [],
   "source": [
    "df = pd.read_excel('noticias.xlsx')"
   ]
  },
  {
   "cell_type": "markdown",
   "id": "weighted-playback",
   "metadata": {},
   "source": [
    "Vamos ver o que temos armazenado no DataFrame?!"
   ]
  },
  {
   "cell_type": "code",
   "execution_count": 5,
   "id": "visible-desktop",
   "metadata": {},
   "outputs": [
    {
     "data": {
      "text/html": [
       "<div>\n",
       "<style scoped>\n",
       "    .dataframe tbody tr th:only-of-type {\n",
       "        vertical-align: middle;\n",
       "    }\n",
       "\n",
       "    .dataframe tbody tr th {\n",
       "        vertical-align: top;\n",
       "    }\n",
       "\n",
       "    .dataframe thead th {\n",
       "        text-align: right;\n",
       "    }\n",
       "</style>\n",
       "<table border=\"1\" class=\"dataframe\">\n",
       "  <thead>\n",
       "    <tr style=\"text-align: right;\">\n",
       "      <th></th>\n",
       "      <th>Secao</th>\n",
       "      <th>Titulo</th>\n",
       "      <th>Descrição</th>\n",
       "      <th>Data</th>\n",
       "    </tr>\n",
       "  </thead>\n",
       "  <tbody>\n",
       "    <tr>\n",
       "      <th>0</th>\n",
       "      <td>politica</td>\n",
       "      <td>Novas parcelas do auxílio emergencial ganham f...</td>\n",
       "      <td>A possibilidade de convocação de sessão legisl...</td>\n",
       "      <td>13/01/2021 09:08</td>\n",
       "    </tr>\n",
       "    <tr>\n",
       "      <th>1</th>\n",
       "      <td>economia</td>\n",
       "      <td>Café arábica recua de máxima de 4 anos na ICE;...</td>\n",
       "      <td>NOVA YORK/LONDRES (Reuters) – Os contratos fut...</td>\n",
       "      <td>07/05/2021 19:09</td>\n",
       "    </tr>\n",
       "    <tr>\n",
       "      <th>2</th>\n",
       "      <td>economia</td>\n",
       "      <td>Milho e soja tocam máximas de vários anos em C...</td>\n",
       "      <td>Por Tom Polansek CHICAGO (Reuters) – Preocupaç...</td>\n",
       "      <td>07/05/2021 18:11</td>\n",
       "    </tr>\n",
       "  </tbody>\n",
       "</table>\n",
       "</div>"
      ],
      "text/plain": [
       "      Secao                                             Titulo  \\\n",
       "0  politica  Novas parcelas do auxílio emergencial ganham f...   \n",
       "1  economia  Café arábica recua de máxima de 4 anos na ICE;...   \n",
       "2  economia  Milho e soja tocam máximas de vários anos em C...   \n",
       "\n",
       "                                           Descrição              Data  \n",
       "0  A possibilidade de convocação de sessão legisl...  13/01/2021 09:08  \n",
       "1  NOVA YORK/LONDRES (Reuters) – Os contratos fut...  07/05/2021 19:09  \n",
       "2  Por Tom Polansek CHICAGO (Reuters) – Preocupaç...  07/05/2021 18:11  "
      ]
     },
     "execution_count": 5,
     "metadata": {},
     "output_type": "execute_result"
    }
   ],
   "source": [
    "df.head(3)"
   ]
  },
  {
   "cell_type": "markdown",
   "id": "perfect-catalyst",
   "metadata": {},
   "source": [
    "Quantas notícias temos ao todo?"
   ]
  },
  {
   "cell_type": "code",
   "execution_count": 6,
   "id": "computational-delay",
   "metadata": {},
   "outputs": [
    {
     "data": {
      "text/plain": [
       "(600, 4)"
      ]
     },
     "execution_count": 6,
     "metadata": {},
     "output_type": "execute_result"
    }
   ],
   "source": [
    "df.shape"
   ]
  },
  {
   "cell_type": "markdown",
   "id": "bigger-story",
   "metadata": {},
   "source": [
    "Quantas seções de notícias temos? E quantas notícias por seção?"
   ]
  },
  {
   "cell_type": "code",
   "execution_count": 17,
   "id": "abstract-jacob",
   "metadata": {},
   "outputs": [
    {
     "data": {
      "text/plain": [
       "politica      200\n",
       "economia      200\n",
       "tecnologia    200\n",
       "Name: Secao, dtype: int64"
      ]
     },
     "execution_count": 17,
     "metadata": {},
     "output_type": "execute_result"
    }
   ],
   "source": [
    "df['Secao'].value_counts()"
   ]
  },
  {
   "cell_type": "markdown",
   "id": "alternate-adapter",
   "metadata": {},
   "source": [
    "# Separando em Treino e Teste\n",
    "\n",
    "Para simular uma situação real de uso do classificador e termos uma ideia de como o classificador se sairá em um uso futuro, iremos dividir nossa base de dados em duas, utilizando uma base para treinar o modelo e outra base para avaliar o desempenho do modelo treinado.\n",
    "\n",
    "A separação da base de dados em conjuntos de treino e teste é uma etapa essencial no processo de modelagem em machine learning. Ela permite avaliar a capacidade do modelo em generalizar os padrões aprendidos durante o treinamento para novos dados, ou seja, dados que ele nunca viu antes.\n",
    "\n",
    "Vamos utilizar uma funcionalidade "
   ]
  },
  {
   "cell_type": "code",
   "execution_count": 8,
   "id": "million-grocery",
   "metadata": {},
   "outputs": [],
   "source": [
    "X_train, X_test, y_train, y_test = train_test_split(df['Titulo'].to_frame(), df['Secao'], test_size=0.25)"
   ]
  },
  {
   "cell_type": "code",
   "execution_count": 9,
   "id": "gentle-questionnaire",
   "metadata": {},
   "outputs": [
    {
     "data": {
      "text/html": [
       "<div>\n",
       "<style scoped>\n",
       "    .dataframe tbody tr th:only-of-type {\n",
       "        vertical-align: middle;\n",
       "    }\n",
       "\n",
       "    .dataframe tbody tr th {\n",
       "        vertical-align: top;\n",
       "    }\n",
       "\n",
       "    .dataframe thead th {\n",
       "        text-align: right;\n",
       "    }\n",
       "</style>\n",
       "<table border=\"1\" class=\"dataframe\">\n",
       "  <thead>\n",
       "    <tr style=\"text-align: right;\">\n",
       "      <th></th>\n",
       "      <th>Titulo</th>\n",
       "    </tr>\n",
       "  </thead>\n",
       "  <tbody>\n",
       "    <tr>\n",
       "      <th>430</th>\n",
       "      <td>Apple planeja investir US$ 430 bilhões nos EUA...</td>\n",
       "    </tr>\n",
       "    <tr>\n",
       "      <th>89</th>\n",
       "      <td>Rio flexibiliza medidas contra Covid, libera p...</td>\n",
       "    </tr>\n",
       "    <tr>\n",
       "      <th>231</th>\n",
       "      <td>Keiko Fujimori se aproxima de Castillo após de...</td>\n",
       "    </tr>\n",
       "    <tr>\n",
       "      <th>168</th>\n",
       "      <td>IGP-DI de abril tem alta de 2,22%, ante 2,17% ...</td>\n",
       "    </tr>\n",
       "    <tr>\n",
       "      <th>456</th>\n",
       "      <td>Preços futuros de carne suína despencam 7% na ...</td>\n",
       "    </tr>\n",
       "    <tr>\n",
       "      <th>...</th>\n",
       "      <td>...</td>\n",
       "    </tr>\n",
       "    <tr>\n",
       "      <th>426</th>\n",
       "      <td>Grupo de hacker português reivindica ataque a ...</td>\n",
       "    </tr>\n",
       "    <tr>\n",
       "      <th>376</th>\n",
       "      <td>Queiroga pede voto de confiança aos senadores ...</td>\n",
       "    </tr>\n",
       "    <tr>\n",
       "      <th>298</th>\n",
       "      <td>Bolsonaro instiga policiais contra a imprensa:...</td>\n",
       "    </tr>\n",
       "    <tr>\n",
       "      <th>40</th>\n",
       "      <td>Fuga de vários leopardos causa pânico em parqu...</td>\n",
       "    </tr>\n",
       "    <tr>\n",
       "      <th>156</th>\n",
       "      <td>Force One chega ao mercado com cadeiras gamer ...</td>\n",
       "    </tr>\n",
       "  </tbody>\n",
       "</table>\n",
       "<p>450 rows × 1 columns</p>\n",
       "</div>"
      ],
      "text/plain": [
       "                                                Titulo\n",
       "430  Apple planeja investir US$ 430 bilhões nos EUA...\n",
       "89   Rio flexibiliza medidas contra Covid, libera p...\n",
       "231  Keiko Fujimori se aproxima de Castillo após de...\n",
       "168  IGP-DI de abril tem alta de 2,22%, ante 2,17% ...\n",
       "456  Preços futuros de carne suína despencam 7% na ...\n",
       "..                                                 ...\n",
       "426  Grupo de hacker português reivindica ataque a ...\n",
       "376  Queiroga pede voto de confiança aos senadores ...\n",
       "298  Bolsonaro instiga policiais contra a imprensa:...\n",
       "40   Fuga de vários leopardos causa pânico em parqu...\n",
       "156  Force One chega ao mercado com cadeiras gamer ...\n",
       "\n",
       "[450 rows x 1 columns]"
      ]
     },
     "execution_count": 9,
     "metadata": {},
     "output_type": "execute_result"
    }
   ],
   "source": [
    "X_train"
   ]
  },
  {
   "cell_type": "markdown",
   "id": "57dd7879",
   "metadata": {},
   "source": [
    "Ao utilizar um conjunto de dados de **treino** para **ajustar** o modelo e um conjunto de **teste** para **avaliar sua performance**, é possível identificar possíveis problemas de overfitting, onde o modelo se ajusta demais aos dados de treino e perde sua capacidade de generalização. Com isso, é possível escolher o melhor modelo para a tarefa em questão e ter mais confiança na sua capacidade de prever novos resultados com precisão."
   ]
  },
  {
   "cell_type": "markdown",
   "id": "anticipated-times",
   "metadata": {},
   "source": [
    "## Engenharia de Features\n",
    "\n",
    "Não vamos utilizar direto o título para treino de um modelo. A partir do título, iremos criar variáveis com o uso de expressões regulares."
   ]
  },
  {
   "cell_type": "code",
   "execution_count": 10,
   "id": "prepared-orbit",
   "metadata": {},
   "outputs": [],
   "source": [
    "X_train['supremo'] = X_train['Titulo'].str.contains('STF|[Ss]upremo')\n",
    "X_train['mercado'] = X_train['Titulo'].str.contains('[mM]ercado')\n",
    "X_train['agric']   = X_train['Titulo'].str.contains('[tT]rigo|[sSoja]|[mMilho]|[lLeite]')\n",
    "X_train['cripto']  = X_train['Titulo'].str.contains('[cC]ripto')\n",
    "\n",
    "X_test['supremo'] = X_test['Titulo'].str.contains('STF|[Ss]upremo')\n",
    "X_test['mercado'] = X_test['Titulo'].str.contains('[mM]ercado')\n",
    "X_test['agric']   = X_test['Titulo'].str.contains('[tT]rigo|[sSoja]|[mMilho]|[lLeite]')\n",
    "X_test['cripto']  = X_test['Titulo'].str.contains('[cC]ripto')"
   ]
  },
  {
   "cell_type": "markdown",
   "id": "pregnant-electronics",
   "metadata": {},
   "source": [
    "Nas próximas aulas, iremos ver novas formas de realizar esta etapa.\n",
    "\n",
    "Vamos remover a coluna de **Título** dos dados de treinamento"
   ]
  },
  {
   "cell_type": "code",
   "execution_count": 11,
   "id": "strong-coach",
   "metadata": {},
   "outputs": [],
   "source": [
    "X_train = X_train.drop('Titulo', axis=1)\n",
    "X_test  = X_test.drop('Titulo', axis=1)"
   ]
  },
  {
   "cell_type": "markdown",
   "id": "worse-football",
   "metadata": {},
   "source": [
    "Então, os dados de treinamento ficarão assim"
   ]
  },
  {
   "cell_type": "code",
   "execution_count": 12,
   "id": "completed-right",
   "metadata": {},
   "outputs": [
    {
     "data": {
      "text/html": [
       "<div>\n",
       "<style scoped>\n",
       "    .dataframe tbody tr th:only-of-type {\n",
       "        vertical-align: middle;\n",
       "    }\n",
       "\n",
       "    .dataframe tbody tr th {\n",
       "        vertical-align: top;\n",
       "    }\n",
       "\n",
       "    .dataframe thead th {\n",
       "        text-align: right;\n",
       "    }\n",
       "</style>\n",
       "<table border=\"1\" class=\"dataframe\">\n",
       "  <thead>\n",
       "    <tr style=\"text-align: right;\">\n",
       "      <th></th>\n",
       "      <th>supremo</th>\n",
       "      <th>mercado</th>\n",
       "      <th>agric</th>\n",
       "      <th>cripto</th>\n",
       "    </tr>\n",
       "  </thead>\n",
       "  <tbody>\n",
       "    <tr>\n",
       "      <th>430</th>\n",
       "      <td>False</td>\n",
       "      <td>False</td>\n",
       "      <td>True</td>\n",
       "      <td>False</td>\n",
       "    </tr>\n",
       "    <tr>\n",
       "      <th>89</th>\n",
       "      <td>False</td>\n",
       "      <td>False</td>\n",
       "      <td>True</td>\n",
       "      <td>False</td>\n",
       "    </tr>\n",
       "    <tr>\n",
       "      <th>231</th>\n",
       "      <td>False</td>\n",
       "      <td>False</td>\n",
       "      <td>True</td>\n",
       "      <td>False</td>\n",
       "    </tr>\n",
       "    <tr>\n",
       "      <th>168</th>\n",
       "      <td>False</td>\n",
       "      <td>False</td>\n",
       "      <td>True</td>\n",
       "      <td>False</td>\n",
       "    </tr>\n",
       "    <tr>\n",
       "      <th>456</th>\n",
       "      <td>False</td>\n",
       "      <td>False</td>\n",
       "      <td>True</td>\n",
       "      <td>False</td>\n",
       "    </tr>\n",
       "    <tr>\n",
       "      <th>...</th>\n",
       "      <td>...</td>\n",
       "      <td>...</td>\n",
       "      <td>...</td>\n",
       "      <td>...</td>\n",
       "    </tr>\n",
       "    <tr>\n",
       "      <th>426</th>\n",
       "      <td>False</td>\n",
       "      <td>False</td>\n",
       "      <td>True</td>\n",
       "      <td>False</td>\n",
       "    </tr>\n",
       "    <tr>\n",
       "      <th>376</th>\n",
       "      <td>False</td>\n",
       "      <td>False</td>\n",
       "      <td>True</td>\n",
       "      <td>False</td>\n",
       "    </tr>\n",
       "    <tr>\n",
       "      <th>298</th>\n",
       "      <td>False</td>\n",
       "      <td>False</td>\n",
       "      <td>True</td>\n",
       "      <td>False</td>\n",
       "    </tr>\n",
       "    <tr>\n",
       "      <th>40</th>\n",
       "      <td>False</td>\n",
       "      <td>False</td>\n",
       "      <td>True</td>\n",
       "      <td>False</td>\n",
       "    </tr>\n",
       "    <tr>\n",
       "      <th>156</th>\n",
       "      <td>False</td>\n",
       "      <td>True</td>\n",
       "      <td>True</td>\n",
       "      <td>False</td>\n",
       "    </tr>\n",
       "  </tbody>\n",
       "</table>\n",
       "<p>450 rows × 4 columns</p>\n",
       "</div>"
      ],
      "text/plain": [
       "     supremo  mercado  agric  cripto\n",
       "430    False    False   True   False\n",
       "89     False    False   True   False\n",
       "231    False    False   True   False\n",
       "168    False    False   True   False\n",
       "456    False    False   True   False\n",
       "..       ...      ...    ...     ...\n",
       "426    False    False   True   False\n",
       "376    False    False   True   False\n",
       "298    False    False   True   False\n",
       "40     False    False   True   False\n",
       "156    False     True   True   False\n",
       "\n",
       "[450 rows x 4 columns]"
      ]
     },
     "execution_count": 12,
     "metadata": {},
     "output_type": "execute_result"
    }
   ],
   "source": [
    "X_train"
   ]
  },
  {
   "cell_type": "code",
   "execution_count": null,
   "id": "brilliant-compound",
   "metadata": {},
   "outputs": [],
   "source": [
    "y_train"
   ]
  },
  {
   "cell_type": "markdown",
   "id": "super-burning",
   "metadata": {},
   "source": [
    "## Criando o classificador\n",
    "Primeiro, vamos utilizar um **DecisionTreeClassifier**. Veja mais em https://scikit-learn.org/stable/modules/generated/sklearn.tree.DecisionTreeClassifier.html"
   ]
  },
  {
   "cell_type": "code",
   "execution_count": 13,
   "id": "closed-playlist",
   "metadata": {},
   "outputs": [],
   "source": [
    "dt = DecisionTreeClassifier()"
   ]
  },
  {
   "cell_type": "markdown",
   "id": "adolescent-trial",
   "metadata": {},
   "source": [
    "Para treiná-lo, basta fazer:"
   ]
  },
  {
   "cell_type": "code",
   "execution_count": 14,
   "id": "small-sheep",
   "metadata": {},
   "outputs": [
    {
     "data": {
      "text/html": [
       "<style>#sk-container-id-1 {color: black;background-color: white;}#sk-container-id-1 pre{padding: 0;}#sk-container-id-1 div.sk-toggleable {background-color: white;}#sk-container-id-1 label.sk-toggleable__label {cursor: pointer;display: block;width: 100%;margin-bottom: 0;padding: 0.3em;box-sizing: border-box;text-align: center;}#sk-container-id-1 label.sk-toggleable__label-arrow:before {content: \"▸\";float: left;margin-right: 0.25em;color: #696969;}#sk-container-id-1 label.sk-toggleable__label-arrow:hover:before {color: black;}#sk-container-id-1 div.sk-estimator:hover label.sk-toggleable__label-arrow:before {color: black;}#sk-container-id-1 div.sk-toggleable__content {max-height: 0;max-width: 0;overflow: hidden;text-align: left;background-color: #f0f8ff;}#sk-container-id-1 div.sk-toggleable__content pre {margin: 0.2em;color: black;border-radius: 0.25em;background-color: #f0f8ff;}#sk-container-id-1 input.sk-toggleable__control:checked~div.sk-toggleable__content {max-height: 200px;max-width: 100%;overflow: auto;}#sk-container-id-1 input.sk-toggleable__control:checked~label.sk-toggleable__label-arrow:before {content: \"▾\";}#sk-container-id-1 div.sk-estimator input.sk-toggleable__control:checked~label.sk-toggleable__label {background-color: #d4ebff;}#sk-container-id-1 div.sk-label input.sk-toggleable__control:checked~label.sk-toggleable__label {background-color: #d4ebff;}#sk-container-id-1 input.sk-hidden--visually {border: 0;clip: rect(1px 1px 1px 1px);clip: rect(1px, 1px, 1px, 1px);height: 1px;margin: -1px;overflow: hidden;padding: 0;position: absolute;width: 1px;}#sk-container-id-1 div.sk-estimator {font-family: monospace;background-color: #f0f8ff;border: 1px dotted black;border-radius: 0.25em;box-sizing: border-box;margin-bottom: 0.5em;}#sk-container-id-1 div.sk-estimator:hover {background-color: #d4ebff;}#sk-container-id-1 div.sk-parallel-item::after {content: \"\";width: 100%;border-bottom: 1px solid gray;flex-grow: 1;}#sk-container-id-1 div.sk-label:hover label.sk-toggleable__label {background-color: #d4ebff;}#sk-container-id-1 div.sk-serial::before {content: \"\";position: absolute;border-left: 1px solid gray;box-sizing: border-box;top: 0;bottom: 0;left: 50%;z-index: 0;}#sk-container-id-1 div.sk-serial {display: flex;flex-direction: column;align-items: center;background-color: white;padding-right: 0.2em;padding-left: 0.2em;position: relative;}#sk-container-id-1 div.sk-item {position: relative;z-index: 1;}#sk-container-id-1 div.sk-parallel {display: flex;align-items: stretch;justify-content: center;background-color: white;position: relative;}#sk-container-id-1 div.sk-item::before, #sk-container-id-1 div.sk-parallel-item::before {content: \"\";position: absolute;border-left: 1px solid gray;box-sizing: border-box;top: 0;bottom: 0;left: 50%;z-index: -1;}#sk-container-id-1 div.sk-parallel-item {display: flex;flex-direction: column;z-index: 1;position: relative;background-color: white;}#sk-container-id-1 div.sk-parallel-item:first-child::after {align-self: flex-end;width: 50%;}#sk-container-id-1 div.sk-parallel-item:last-child::after {align-self: flex-start;width: 50%;}#sk-container-id-1 div.sk-parallel-item:only-child::after {width: 0;}#sk-container-id-1 div.sk-dashed-wrapped {border: 1px dashed gray;margin: 0 0.4em 0.5em 0.4em;box-sizing: border-box;padding-bottom: 0.4em;background-color: white;}#sk-container-id-1 div.sk-label label {font-family: monospace;font-weight: bold;display: inline-block;line-height: 1.2em;}#sk-container-id-1 div.sk-label-container {text-align: center;}#sk-container-id-1 div.sk-container {/* jupyter's `normalize.less` sets `[hidden] { display: none; }` but bootstrap.min.css set `[hidden] { display: none !important; }` so we also need the `!important` here to be able to override the default hidden behavior on the sphinx rendered scikit-learn.org. See: https://github.com/scikit-learn/scikit-learn/issues/21755 */display: inline-block !important;position: relative;}#sk-container-id-1 div.sk-text-repr-fallback {display: none;}</style><div id=\"sk-container-id-1\" class=\"sk-top-container\"><div class=\"sk-text-repr-fallback\"><pre>DecisionTreeClassifier()</pre><b>In a Jupyter environment, please rerun this cell to show the HTML representation or trust the notebook. <br />On GitHub, the HTML representation is unable to render, please try loading this page with nbviewer.org.</b></div><div class=\"sk-container\" hidden><div class=\"sk-item\"><div class=\"sk-estimator sk-toggleable\"><input class=\"sk-toggleable__control sk-hidden--visually\" id=\"sk-estimator-id-1\" type=\"checkbox\" checked><label for=\"sk-estimator-id-1\" class=\"sk-toggleable__label sk-toggleable__label-arrow\">DecisionTreeClassifier</label><div class=\"sk-toggleable__content\"><pre>DecisionTreeClassifier()</pre></div></div></div></div></div>"
      ],
      "text/plain": [
       "DecisionTreeClassifier()"
      ]
     },
     "execution_count": 14,
     "metadata": {},
     "output_type": "execute_result"
    }
   ],
   "source": [
    "dt.fit(X_train, y_train)"
   ]
  },
  {
   "cell_type": "code",
   "execution_count": 15,
   "id": "fb2f7a08",
   "metadata": {},
   "outputs": [
    {
     "data": {
      "text/plain": [
       "430    tecnologia\n",
       "89     tecnologia\n",
       "231      economia\n",
       "168      economia\n",
       "456      economia\n",
       "          ...    \n",
       "426      politica\n",
       "376      politica\n",
       "298      politica\n",
       "40       economia\n",
       "156    tecnologia\n",
       "Name: Secao, Length: 450, dtype: object"
      ]
     },
     "execution_count": 15,
     "metadata": {},
     "output_type": "execute_result"
    }
   ],
   "source": [
    "y_train"
   ]
  },
  {
   "cell_type": "markdown",
   "id": "billion-layer",
   "metadata": {},
   "source": [
    "## Base de testes\n",
    "Agora, vamos ver a performance na base de testes"
   ]
  },
  {
   "cell_type": "code",
   "execution_count": 16,
   "id": "colored-impression",
   "metadata": {},
   "outputs": [
    {
     "data": {
      "text/plain": [
       "0.3"
      ]
     },
     "execution_count": 16,
     "metadata": {},
     "output_type": "execute_result"
    }
   ],
   "source": [
    "y_pred = dt.predict(X_test)\n",
    "accuracy_score(y_true=y_test, y_pred=y_pred)"
   ]
  },
  {
   "cell_type": "markdown",
   "id": "silver-august",
   "metadata": {},
   "source": [
    "# Exercícios\n",
    "**Exercício 1)** Pesquise sobre matriz de confusão. Gere a matriz de confusão do modelo em questão.\n",
    "\n",
    "Dica: acesse o ChatGPT ou o https://chatbot.theb.ai/ e pergunte:\n",
    "- Pergunta 1:\n",
    "```\n",
    "O que é matriz de confusão em Machine Learning?\n",
    "```\n",
    "\n",
    "- Pergunta 2:\n",
    "```\n",
    "Dado este código:\n",
    "y_pred = dt.predict(X_test)\n",
    "accuracy_score(y_true=y_test, y_pred=y_pred)\n",
    "como calcular uma matriz de confusão em python?\n",
    "```\n",
    "\n",
    "- Pergunta 3:\n",
    "```\n",
    "como plotar a matriz de confusão com seaborn?\n",
    "```\n",
    "\n",
    "\n",
    "- Pergunta 4:\n",
    "```\n",
    "mas como eu instalo seaborn a partir de um jupyter notebook?\n",
    "```"
   ]
  },
  {
   "cell_type": "code",
   "execution_count": null,
   "id": "f22c8d88",
   "metadata": {},
   "outputs": [],
   "source": []
  },
  {
   "cell_type": "markdown",
   "id": "04ec9e53",
   "metadata": {},
   "source": [
    "**Exercício 2)** Analise a acurácia e a matriz de confusão. Você considera que o classificador teve uma boa performance? Justifique."
   ]
  },
  {
   "cell_type": "code",
   "execution_count": null,
   "id": "2f13ebde",
   "metadata": {},
   "outputs": [],
   "source": []
  },
  {
   "cell_type": "markdown",
   "id": "be932744",
   "metadata": {},
   "source": [
    "**Exercício 3)** Desenhe, com o graphviz, a árvore de decisão treinada por seu classificador."
   ]
  },
  {
   "cell_type": "code",
   "execution_count": null,
   "id": "71c38643",
   "metadata": {},
   "outputs": [],
   "source": []
  },
  {
   "cell_type": "markdown",
   "id": "713ab88c",
   "metadata": {},
   "source": [
    "**Exercício 4)** Seja criativo e crie novas *features* utilizando expressões regulares. Confira a performance do classificador"
   ]
  },
  {
   "cell_type": "code",
   "execution_count": null,
   "id": "5be530c9",
   "metadata": {},
   "outputs": [],
   "source": []
  },
  {
   "cell_type": "markdown",
   "id": "4990413c",
   "metadata": {},
   "source": [
    "**Exercício 5)** Considerando a versão atualizada dos dados (feito no exercício 4), verifique a performance de outros modelos. Algumas sugestões:\n",
    "\n",
    "https://scikit-learn.org/stable/modules/generated/sklearn.neighbors.KNeighborsClassifier.html\n",
    "https://scikit-learn.org/stable/modules/generated/sklearn.naive_bayes.GaussianNB.html\n",
    "https://scikit-learn.org/stable/modules/generated/sklearn.ensemble.RandomForestClassifier.html\n"
   ]
  },
  {
   "cell_type": "code",
   "execution_count": null,
   "id": "9afb01fc",
   "metadata": {},
   "outputs": [],
   "source": []
  },
  {
   "cell_type": "markdown",
   "id": "absolute-popularity",
   "metadata": {},
   "source": [
    "**Exercício 6)** Suponha que nosso problema fosse de regressão ao invés de classificação. Faria sentido utilizar a Acurácia como métrica de erro?"
   ]
  },
  {
   "cell_type": "code",
   "execution_count": null,
   "id": "gentle-monte",
   "metadata": {},
   "outputs": [],
   "source": []
  },
  {
   "cell_type": "markdown",
   "id": "contrary-tokyo",
   "metadata": {},
   "source": [
    "**Exercício 7)** Você teria outras sugestões para melhorar a acurácia do seu classificador?"
   ]
  },
  {
   "cell_type": "code",
   "execution_count": null,
   "id": "beautiful-moldova",
   "metadata": {},
   "outputs": [],
   "source": []
  }
 ],
 "metadata": {
  "kernelspec": {
   "display_name": "Python 3 (ipykernel)",
   "language": "python",
   "name": "python3"
  },
  "language_info": {
   "codemirror_mode": {
    "name": "ipython",
    "version": 3
   },
   "file_extension": ".py",
   "mimetype": "text/x-python",
   "name": "python",
   "nbconvert_exporter": "python",
   "pygments_lexer": "ipython3",
   "version": "3.8.16"
  }
 },
 "nbformat": 4,
 "nbformat_minor": 5
}
