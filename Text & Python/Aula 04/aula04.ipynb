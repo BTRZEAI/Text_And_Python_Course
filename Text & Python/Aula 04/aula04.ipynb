{
 "cells": [
  {
   "cell_type": "markdown",
   "id": "comprehensive-turkey",
   "metadata": {},
   "source": [
    "# Análise de texto de fontes desestruturadas e Web\n",
    "\n",
    "## Aula 04\n",
    "\n",
    "Neste aula iremos aprender como obter e analisar dados da Web (*World Wide Web*) utilizando bibliotecas Python.\n",
    "\n",
    "<img src=\"https://atd-insper.s3.us-east-2.amazonaws.com/aula04/img/requests-sidebar.png\">\n",
    "\n",
    "A biblioteca utilizada será a **requests**, cujo lema é *HTTP for humans!* Nosso objetivo será entender como podemos requisitar estes recursos disponíveis na Web.\n",
    "\n",
    "Para conhecer mais sobre ela, acesse https://requests.readthedocs.io/"
   ]
  },
  {
   "cell_type": "markdown",
   "id": "aerial-arlington",
   "metadata": {},
   "source": [
    "## Instalando a biblioteca *requests*\n",
    "\n",
    "Primeiro, vamos instalar a principal biblioteca da aula!"
   ]
  },
  {
   "cell_type": "code",
   "execution_count": null,
   "id": "lined-polymer",
   "metadata": {},
   "outputs": [],
   "source": [
    "!pip install requests"
   ]
  },
  {
   "cell_type": "markdown",
   "id": "defensive-capacity",
   "metadata": {},
   "source": [
    "Caso a bibliteca instalada seja de uma versão anterior, podemos atualizar com:"
   ]
  },
  {
   "cell_type": "code",
   "execution_count": null,
   "id": "improved-focus",
   "metadata": {},
   "outputs": [],
   "source": [
    "!pip install -U pip\n",
    "!pip install -U requests"
   ]
  },
  {
   "cell_type": "markdown",
   "id": "weird-patrol",
   "metadata": {},
   "source": [
    "## Importando as bibliotecas necessárias\n",
    "\n",
    "Agora, vamos importar as bibliotecas necessárias:"
   ]
  },
  {
   "cell_type": "code",
   "execution_count": null,
   "id": "unlike-france",
   "metadata": {},
   "outputs": [],
   "source": [
    "# para trabalhar com diretórios / sistema operacional\n",
    "import os\n",
    "\n",
    "# para nos comunicarmos com a Web\n",
    "import requests\n",
    "\n",
    "# para pegar o executável do Python\n",
    "import sys"
   ]
  },
  {
   "cell_type": "markdown",
   "id": "acquired-regard",
   "metadata": {},
   "source": [
    "Caso obtenha algum erro, utilize o **!pip install** para instalar a biblioteca ausente!\n",
    "\n",
    "Vamos conferir com qual versão da biblioteca **requests** estamos trabalhando?"
   ]
  },
  {
   "cell_type": "code",
   "execution_count": null,
   "id": "removable-calvin",
   "metadata": {},
   "outputs": [],
   "source": [
    "print(requests.__version__)"
   ]
  },
  {
   "cell_type": "markdown",
   "id": "fewer-voluntary",
   "metadata": {},
   "source": [
    "Você também pode conferir de onde está executando o Python e qual a versão"
   ]
  },
  {
   "cell_type": "code",
   "execution_count": null,
   "id": "aggregate-secondary",
   "metadata": {},
   "outputs": [],
   "source": [
    "print('Executável:')\n",
    "print(sys.executable)\n",
    "\n",
    "print('\\nVersão do Python:')\n",
    "print(sys.version)"
   ]
  },
  {
   "cell_type": "markdown",
   "id": "multiple-premium",
   "metadata": {},
   "source": [
    "Vamos conferir em qual diretório iremos trabalhar (é o diretório do notebook)?"
   ]
  },
  {
   "cell_type": "code",
   "execution_count": null,
   "id": "revolutionary-quantity",
   "metadata": {},
   "outputs": [],
   "source": [
    "print('O seu notebook está na pasta:')\n",
    "print(os.getcwd())"
   ]
  },
  {
   "cell_type": "markdown",
   "id": "detected-vulnerability",
   "metadata": {},
   "source": [
    "## Validação de CEP!\n",
    "\n",
    "É comum que exista a necessidade de comunicação entre aplicações. Isto é feito pela disponibilização de uma API (*Application Programming Interface - Interface de Programação de Aplicativos*).\n",
    "\n",
    "Uma API atua como uma camada que provê **comunicação**, ou seja, espeficifa uma interface que outras aplicações devem utilizar caso queiram se comunicar, permitindo que diferentes sistemas conversem entre si sem precisar entender exatamente o que cada um faz.\n",
    "\n",
    "Apesar do termos ser comumente utilizado em um contexto Web, nos computador as aplicações precisam conhecer a API do sistema operacional para solicitar recursos, e nós programadores precisamos conhecer a API do pandas, sklearn, matplotlib, etc. caso queiramos utilizar recursos destes pacotes no Python!\n",
    "\n",
    "Como um primeiro exemplo, iremos utilizar a API do viacep para validar **CEP**s!  Abra o site https://viacep.com.br e veja como este webservice (https://pt.wikipedia.org/wiki/Web_service) é disponibilizado."
   ]
  },
  {
   "cell_type": "code",
   "execution_count": null,
   "id": "trying-incentive",
   "metadata": {},
   "outputs": [],
   "source": [
    "cep = '04546-042'\n",
    "\n",
    "# Complete a URL\n",
    "url_cep = 'https://viacep.com.br/ws/{}/piped/'\n",
    "\n",
    "req = # Preencha aqui\n",
    "req"
   ]
  },
  {
   "cell_type": "markdown",
   "id": "physical-matrix",
   "metadata": {},
   "source": [
    "Perceba, pela **rota** descrita na **URL**, que escolhemos o formato `piped`. Então, esperamos que as informações do CEP consultado volte como uma string separada por pipes `|`.\n",
    "\n",
    "\n",
    "Com a requisição feita, vamos conferir o código de resposta:"
   ]
  },
  {
   "cell_type": "code",
   "execution_count": null,
   "id": "institutional-infrastructure",
   "metadata": {
    "scrolled": false
   },
   "outputs": [],
   "source": [
    "# Preencha aqui"
   ]
  },
  {
   "cell_type": "markdown",
   "id": "3a4bfe2e",
   "metadata": {},
   "source": [
    "O tipo de conteúdo retornado:"
   ]
  },
  {
   "cell_type": "code",
   "execution_count": null,
   "id": "e356616f",
   "metadata": {},
   "outputs": [],
   "source": [
    "req.headers['content-type']"
   ]
  },
  {
   "cell_type": "markdown",
   "id": "0b917e6d",
   "metadata": {},
   "source": [
    "Perceba que obtivemos `text/plain`, o que significa que a resposta veio como uma string, em codificação `utf-8` (exploraremos depois a codificação)."
   ]
  },
  {
   "cell_type": "code",
   "execution_count": null,
   "id": "attended-curve",
   "metadata": {
    "scrolled": true
   },
   "outputs": [],
   "source": [
    "print('Texto de resposta:\\n')\n",
    "print(req.text)"
   ]
  },
  {
   "cell_type": "markdown",
   "id": "patient-vermont",
   "metadata": {},
   "source": [
    "E se fizermos a requisição de um CEP inválido?!"
   ]
  },
  {
   "cell_type": "code",
   "execution_count": null,
   "id": "positive-holly",
   "metadata": {},
   "outputs": [],
   "source": [
    "cep = '12345'\n",
    "\n",
    "# Preencha aqui!"
   ]
  },
  {
   "cell_type": "markdown",
   "id": "macro-coach",
   "metadata": {},
   "source": [
    "Conferindo o código de resposta:"
   ]
  },
  {
   "cell_type": "code",
   "execution_count": null,
   "id": "guilty-responsibility",
   "metadata": {
    "scrolled": true
   },
   "outputs": [],
   "source": [
    "print('Código de status da resposta: {}'.format(req.status_code))"
   ]
  },
  {
   "cell_type": "markdown",
   "id": "0d276a71",
   "metadata": {},
   "source": [
    "Iremos estudar nos próximos tópicos o significado do status de resposta. Por enquanto, você tem algum palpite sobre em quais situações ele pode ser útil?!"
   ]
  },
  {
   "cell_type": "raw",
   "id": "34200524",
   "metadata": {},
   "source": [
    "Escreva aqui sua resposta!"
   ]
  },
  {
   "cell_type": "markdown",
   "id": "a3b5e2b7",
   "metadata": {},
   "source": [
    "## Códigos de status de respostas HTTP\n",
    "\n",
    "\n",
    "Quando solicitamos um recurso, quais são as respostas possíveis? É importante perceber que nem sempre o recurso solicitado estará disponível.\n",
    "\n",
    "Vamos fazer uma requisição GET ao Google."
   ]
  },
  {
   "cell_type": "code",
   "execution_count": null,
   "id": "05e352f9",
   "metadata": {},
   "outputs": [],
   "source": [
    "resposta = requests.get('http://www.google.com/')\n",
    "resposta"
   ]
  },
  {
   "cell_type": "markdown",
   "id": "32479619",
   "metadata": {},
   "source": [
    "Vamos conferir o código de resposta:"
   ]
  },
  {
   "cell_type": "code",
   "execution_count": null,
   "id": "cc63af34",
   "metadata": {},
   "outputs": [],
   "source": [
    "print('Código de status da resposta: {}'.format(resposta.status_code))"
   ]
  },
  {
   "cell_type": "code",
   "execution_count": null,
   "id": "b8619ff2",
   "metadata": {},
   "outputs": [],
   "source": [
    "resposta.ok"
   ]
  },
  {
   "cell_type": "markdown",
   "id": "ab09ad32",
   "metadata": {},
   "source": [
    "Agora, vamos realizar uma consulta utilizando uma URL inexistente:"
   ]
  },
  {
   "cell_type": "code",
   "execution_count": null,
   "id": "6ed0d8ce",
   "metadata": {},
   "outputs": [],
   "source": [
    "resposta = requests.get('http://www.google.com/abacadabra')\n",
    "resposta"
   ]
  },
  {
   "cell_type": "code",
   "execution_count": null,
   "id": "b768bc09",
   "metadata": {},
   "outputs": [],
   "source": [
    "print('Código de status da resposta: {}'.format(resposta.status_code))"
   ]
  },
  {
   "cell_type": "markdown",
   "id": "c4150c55",
   "metadata": {},
   "source": [
    "Perceba que temos um novo código `404` e que a requisição não está ok!"
   ]
  },
  {
   "cell_type": "code",
   "execution_count": null,
   "id": "643640a0",
   "metadata": {},
   "outputs": [],
   "source": [
    "# Preencha aqui!"
   ]
  },
  {
   "cell_type": "markdown",
   "id": "548ee1be",
   "metadata": {},
   "source": [
    "E por último esta consulta retorna:"
   ]
  },
  {
   "cell_type": "code",
   "execution_count": null,
   "id": "f3101fdf",
   "metadata": {},
   "outputs": [],
   "source": [
    "url = 'https://atd-insper.s3.us-east-2.amazonaws.com/aula04/fatura.pdf'\n",
    "\n",
    "resposta = requests.get(url)\n",
    "resposta"
   ]
  },
  {
   "cell_type": "markdown",
   "id": "f674335e",
   "metadata": {},
   "source": [
    "Acesse https://developer.mozilla.org/pt-BR/docs/Web/HTTP/Status ou https://pt.wikipedia.org/wiki/Lista_de_códigos_de_estado_HTTP para ver mais informações sobre os códigos de status da resposta. Eles podem indicar desde um sucesso, recurso inexistente até uma ausência de permissão para acesso."
   ]
  },
  {
   "cell_type": "markdown",
   "id": "forbidden-modern",
   "metadata": {},
   "source": [
    "**Exercício 1** Crie um bloco de código (preferencialmente uma função) que consulte um CEP. Caso o CEP seja válido, imprima o endereço. Caso o CEP seja inválido, imprima a mensagem \"*CEP inválido!*\""
   ]
  },
  {
   "cell_type": "code",
   "execution_count": null,
   "id": "understanding-alcohol",
   "metadata": {},
   "outputs": [],
   "source": [
    "def consulta_cep(cep):\n",
    "    # Seu codigo aqui!\n",
    "    pass # Remova esta linha quando responder"
   ]
  },
  {
   "cell_type": "code",
   "execution_count": null,
   "id": "sunset-temperature",
   "metadata": {},
   "outputs": [],
   "source": [
    "consulta_cep('123')"
   ]
  },
  {
   "cell_type": "code",
   "execution_count": null,
   "id": "enormous-delaware",
   "metadata": {},
   "outputs": [],
   "source": [
    "consulta_cep('01310100')"
   ]
  },
  {
   "cell_type": "markdown",
   "id": "greek-edition",
   "metadata": {},
   "source": [
    "**Exercício 2** O que acontece caso pesquise algum CEP no formato válido, mas que seja um CEP inexistente? Altere sua função para considerar este caso"
   ]
  },
  {
   "cell_type": "code",
   "execution_count": null,
   "id": "4315f5b3",
   "metadata": {},
   "outputs": [],
   "source": [
    "def consulta_cep(cep):\n",
    "    # Seu código aqui!\n",
    "    pass # Remova esta linha quando responder"
   ]
  },
  {
   "cell_type": "code",
   "execution_count": null,
   "id": "awful-owner",
   "metadata": {
    "scrolled": true
   },
   "outputs": [],
   "source": [
    "consulta_cep('77777777')"
   ]
  },
  {
   "cell_type": "code",
   "execution_count": null,
   "id": "neural-object",
   "metadata": {},
   "outputs": [],
   "source": [
    "consulta_cep('1234')"
   ]
  },
  {
   "cell_type": "code",
   "execution_count": null,
   "id": "linear-possession",
   "metadata": {},
   "outputs": [],
   "source": [
    "consulta_cep('05436100')"
   ]
  },
  {
   "cell_type": "markdown",
   "id": "difficult-minnesota",
   "metadata": {},
   "source": [
    "**Exercício 3**\n",
    "\n",
    "- **a)**) Separe a string do endereço do exercício anterior em substrings, divindindo pelo *pipe* (barra vertical $\\rightarrow$ |). Armazene o resultado em uma lista.\n",
    "    \n",
    "- **b)** Tente também separar o que é título (ex: `logradouro`) do que é conteúdo (ex:`Rua Gonçalo Afonso`). Armazene o resultado em um dicionário."
   ]
  },
  {
   "cell_type": "code",
   "execution_count": null,
   "id": "3c7b730c",
   "metadata": {},
   "outputs": [],
   "source": [
    "# Seu código aqui"
   ]
  },
  {
   "cell_type": "markdown",
   "id": "95482dbb",
   "metadata": {},
   "source": [
    "No exercício 3 o texto de retorno foi dividido utilizando o *pipe* (barra vertical $\\rightarrow$ |) como referência. Entretanto, uma forma melhor seria utilizar a interface **JSON** do viacep!\n",
    "\n",
    "Note que será alterada o final da URL:"
   ]
  },
  {
   "cell_type": "code",
   "execution_count": null,
   "id": "bf10a2e5",
   "metadata": {},
   "outputs": [],
   "source": [
    "cep = '05436100'\n",
    "url = 'https://viacep.com.br/ws/{}/json/'.format(cep)\n",
    "\n",
    "req = requests.get(url=url)\n",
    "\n",
    "endereco = req.text\n",
    "\n",
    "endereco"
   ]
  },
  {
   "cell_type": "code",
   "execution_count": null,
   "id": "4b15c8b5",
   "metadata": {},
   "outputs": [],
   "source": [
    "print(endereco)"
   ]
  },
  {
   "cell_type": "markdown",
   "id": "54a4f4bb",
   "metadata": {},
   "source": [
    "Vamos utilizar a biblioteca `json` para representar o endereço de forma estruturada:"
   ]
  },
  {
   "cell_type": "code",
   "execution_count": null,
   "id": "6b04b4cc",
   "metadata": {},
   "outputs": [],
   "source": [
    "import json\n",
    "\n",
    "dicionario_endereco = # Preencha aqui!\n",
    "dicionario_endereco"
   ]
  },
  {
   "cell_type": "markdown",
   "id": "ece3badd",
   "metadata": {},
   "source": [
    "Podemos então utilizar o `dicionario_endereco` para acessar informações dos dados, utilizando **chave** para obter o **valor** armazenado. Veja com a chave **cep**:"
   ]
  },
  {
   "cell_type": "code",
   "execution_count": null,
   "id": "d29263bd",
   "metadata": {},
   "outputs": [],
   "source": [
    "dicionario_endereco['cep']"
   ]
  },
  {
   "cell_type": "markdown",
   "id": "fancy-bowling",
   "metadata": {},
   "source": [
    "**Exercício 4** Qual o código de resposta que identifica que houve **sucesso** na requisição GET?"
   ]
  },
  {
   "cell_type": "markdown",
   "id": "waiting-movement",
   "metadata": {},
   "source": [
    "R:"
   ]
  },
  {
   "cell_type": "markdown",
   "id": "geographic-professional",
   "metadata": {},
   "source": [
    "**Exercício 5** Qual a diferença entre os códigos de erro 401 e 403?"
   ]
  },
  {
   "cell_type": "markdown",
   "id": "inside-overall",
   "metadata": {},
   "source": [
    "R:"
   ]
  },
  {
   "cell_type": "markdown",
   "id": "selected-google",
   "metadata": {},
   "source": [
    "**Exercício 6** Crie um bloco de código que acessa uma URL, informa se houve sucesso ou trata os erros 404, 403 e 401, fornecendo mensagens adequadas."
   ]
  },
  {
   "cell_type": "code",
   "execution_count": null,
   "id": "generic-devil",
   "metadata": {},
   "outputs": [],
   "source": []
  },
  {
   "cell_type": "markdown",
   "id": "skilled-lingerie",
   "metadata": {},
   "source": [
    "## Internet Protocol address (IP)\n",
    "\n",
    "Os seres humanos acessam informações on-line utilizando endereços como http://www.google.com. Para que os recursos sejam localizados, os navegadores da Web utilizam endereços de protocolo de internet (**IP**). A conversão de nomes de domínio em endereços de **IP** pode ser realizada utilizando um serviço **DNS** (*Domain Name System*).\n",
    "\n",
    "Iremos conferir o endereço **IP** dos servidores que estamos consultando"
   ]
  },
  {
   "cell_type": "code",
   "execution_count": null,
   "id": "german-budget",
   "metadata": {},
   "outputs": [],
   "source": [
    "gg = requests.get('https://google.com', stream=True)\n",
    "gg.raw._connection.sock.getpeername()"
   ]
  },
  {
   "cell_type": "code",
   "execution_count": null,
   "id": "soviet-penguin",
   "metadata": {},
   "outputs": [],
   "source": [
    "gg = requests.get('http://www.ime.usp.br/', stream=True)\n",
    "gg.raw._connection.sock.getpeername()"
   ]
  },
  {
   "cell_type": "markdown",
   "id": "egyptian-subscriber",
   "metadata": {},
   "source": [
    "No próximo comando, iremos realizar um `ping`. O comando `ping` é uma ferramenta simples usada para testar a conectividade entre dois dispositivos em uma rede. Quando o comando `ping` é executado, ele envia um pacote ICMP (pense como se fosse uma mensagem) para o dispositivo de destino e aguarda uma resposta. Se uma resposta for recebida, o comando ping exibe informações como tempo de resposta, perda de pacotes e número de pacotes transmitidos.\n",
    "\n",
    "Obs: se estiver no Windows, remova o -c 4"
   ]
  },
  {
   "cell_type": "code",
   "execution_count": null,
   "id": "loose-hanging",
   "metadata": {
    "scrolled": true
   },
   "outputs": [],
   "source": [
    "!ping -c 4 www.insper.edu.br"
   ]
  },
  {
   "cell_type": "markdown",
   "id": "phantom-brand",
   "metadata": {},
   "source": [
    "## Baixando imagens\n",
    "\n",
    "Nos tópicos anteriores fizemos requisições que retornaram conteúdo do tipo `text/plain` (strings). Entretanto, as mesmas chamadas GET podem ser utilizadas para recuperar imagens, PDFs, páginas Web, etc.\n",
    "\n",
    "Vamos solicitar uma imagem PNG:"
   ]
  },
  {
   "cell_type": "code",
   "execution_count": null,
   "id": "obvious-conspiracy",
   "metadata": {},
   "outputs": [],
   "source": [
    "url_imagem = 'https://s2.studylib.net/store/data/013539884_1-c723ea60365e3706a333362a126d4c5a.png'\n",
    "\n",
    "req = requests.get(url = url_imagem)\n",
    "\n",
    "print(req.status_code)"
   ]
  },
  {
   "cell_type": "markdown",
   "id": "dress-secretariat",
   "metadata": {},
   "source": [
    "Perceba que o código `200` nos indica que obtivemos sucesso!\n",
    "\n",
    "No `content-type`, perceba que o conteúdo retornado é do tipo `img/png`"
   ]
  },
  {
   "cell_type": "code",
   "execution_count": null,
   "id": "c8b2e21f",
   "metadata": {},
   "outputs": [],
   "source": [
    "req.headers['content-type']"
   ]
  },
  {
   "cell_type": "markdown",
   "id": "d014e6f5",
   "metadata": {},
   "source": [
    "Agora, vamos salvar a imagem. Abriremos um arquivo em modo de escrita e escrevemos o conteúdo (`req.content`) retornado pela requisição."
   ]
  },
  {
   "cell_type": "code",
   "execution_count": null,
   "id": "extensive-demand",
   "metadata": {},
   "outputs": [],
   "source": [
    "# Complete com seu código aqui!"
   ]
  },
  {
   "cell_type": "markdown",
   "id": "productive-speaker",
   "metadata": {},
   "source": [
    "**Exercício 7** Exiba a imagem na tela.\n",
    "\n",
    "**Dica:** não se esqueça de importar o **cv2** e o **matplotlib**. Confira como fizemos na aula passada."
   ]
  },
  {
   "cell_type": "code",
   "execution_count": null,
   "id": "4da9ec73",
   "metadata": {},
   "outputs": [],
   "source": []
  },
  {
   "cell_type": "markdown",
   "id": "cellular-weekly",
   "metadata": {},
   "source": [
    "**Exercício 8** Conforme aula anterior, utilize um **Reader** do **EasyOCR** para realizar a transcrição dos dados contidos na imagem."
   ]
  },
  {
   "cell_type": "code",
   "execution_count": null,
   "id": "a95a8e6d",
   "metadata": {},
   "outputs": [],
   "source": []
  },
  {
   "cell_type": "markdown",
   "id": "fewer-pharmacy",
   "metadata": {},
   "source": [
    "## Baixando arquivos de texto\n",
    "\n",
    "Vamos baixar um arquivo TXT do livro *Alice's Adventures in Wonderland*. Aproveitando, iremos configurar um **timeout**, que irá definir o tempo máximo de espera por uma resposta.\n",
    "\n",
    "Para conseguir o link do livro, acesse https://atd-insper.s3.us-east-2.amazonaws.com/aula04/alice_wonderland.txt"
   ]
  },
  {
   "cell_type": "code",
   "execution_count": null,
   "id": "designed-atlantic",
   "metadata": {},
   "outputs": [],
   "source": [
    "alice_url_txt = 'https://atd-insper.s3.us-east-2.amazonaws.com/aula04/alice_wonderland.txt'\n",
    "\n",
    "resposta = requests.get(url=alice_url_txt, timeout=0.01)\n",
    "\n",
    "resposta"
   ]
  },
  {
   "cell_type": "markdown",
   "id": "25570bf8",
   "metadata": {},
   "source": [
    "Perceba que o argumento de `timeout` está quase zero! Provavelmente a requisição irá falhar. Aumente este valor até obter sucesso. Isto será útil quando você tiver uma tolerância máxima de espera por algum recurso.\n",
    "\n",
    "Vamos conferir o `content-type`:"
   ]
  },
  {
   "cell_type": "code",
   "execution_count": null,
   "id": "71ab43f9",
   "metadata": {},
   "outputs": [],
   "source": [
    "resposta.headers['content-type']"
   ]
  },
  {
   "cell_type": "markdown",
   "id": "6e839079",
   "metadata": {},
   "source": [
    "Vejamos o texto retornado:"
   ]
  },
  {
   "cell_type": "code",
   "execution_count": null,
   "id": "095ecf11",
   "metadata": {},
   "outputs": [],
   "source": [
    "print(resposta.text)"
   ]
  },
  {
   "cell_type": "markdown",
   "id": "0341cba2",
   "metadata": {},
   "source": [
    "Então podemos fazer o que quisermos com este texto:\n",
    "- Remover stopwords\n",
    "- Quebrar em palavras\n",
    "- Analisar sentimento das frases\n",
    "- etc."
   ]
  },
  {
   "cell_type": "code",
   "execution_count": null,
   "id": "studied-stephen",
   "metadata": {
    "scrolled": false
   },
   "outputs": [],
   "source": [
    "resposta.text.split()"
   ]
  },
  {
   "cell_type": "markdown",
   "id": "later-position",
   "metadata": {},
   "source": [
    "## Baixando páginas da Web\n",
    "\n",
    "A parte realmente legal de trabalharmos com dados da Internet é extrair informações das páginas da Web. Será que podemos utilizar a biblioteca **requests** para baixar conteúdos de páginas Web?\n",
    "\n",
    "Vamos ver um primeiro exemplo:\n",
    "\n",
    "**Dica**: copie a URL e cole em seu navegador para ver o conteúdo da página renderizado!"
   ]
  },
  {
   "cell_type": "code",
   "execution_count": null,
   "id": "official-pathology",
   "metadata": {},
   "outputs": [],
   "source": [
    "url = 'https://atd-insper.s3.us-east-2.amazonaws.com/aula04/amostra.html'\n",
    "\n",
    "resposta = requests.get(url = url)\n",
    "\n",
    "resposta"
   ]
  },
  {
   "cell_type": "markdown",
   "id": "stretch-finnish",
   "metadata": {},
   "source": [
    "Conferindo o código de resposta:"
   ]
  },
  {
   "cell_type": "code",
   "execution_count": null,
   "id": "innocent-calculator",
   "metadata": {},
   "outputs": [],
   "source": [
    "print('Código de status da resposta: {}'.format(req.status_code))"
   ]
  },
  {
   "cell_type": "markdown",
   "id": "narrative-essex",
   "metadata": {},
   "source": [
    "E o texto de resposta:"
   ]
  },
  {
   "cell_type": "code",
   "execution_count": null,
   "id": "imposed-relaxation",
   "metadata": {},
   "outputs": [],
   "source": [
    "print('Texto de resposta:')\n",
    "# Preencha aqui!"
   ]
  },
  {
   "cell_type": "markdown",
   "id": "verified-funeral",
   "metadata": {},
   "source": [
    "Perceberam que alguns caracteres ficaram \"estranhos\"?!\n",
    "\n",
    "Vamos conferir o **encoding** utilizado"
   ]
  },
  {
   "cell_type": "code",
   "execution_count": null,
   "id": "verified-communication",
   "metadata": {},
   "outputs": [],
   "source": [
    "# Preencha aqui!"
   ]
  },
  {
   "cell_type": "markdown",
   "id": "formed-gravity",
   "metadata": {},
   "source": [
    "Vamos alterar o **encoding**"
   ]
  },
  {
   "cell_type": "code",
   "execution_count": null,
   "id": "organizational-sessions",
   "metadata": {},
   "outputs": [],
   "source": [
    "# Preencha aqui!"
   ]
  },
  {
   "cell_type": "markdown",
   "id": "mediterranean-ghost",
   "metadata": {},
   "source": [
    "e rever o texto de resposta"
   ]
  },
  {
   "cell_type": "code",
   "execution_count": null,
   "id": "cognitive-basketball",
   "metadata": {},
   "outputs": [],
   "source": [
    "print('Texto de resposta:')\n",
    "# Preencha aqui!"
   ]
  },
  {
   "cell_type": "markdown",
   "id": "confirmed-liberal",
   "metadata": {},
   "source": [
    "Este conteúdo é um **HTML** (do inglês *HyperText Markup Language*). Na próxima aula, iremos aprender como extrair informações úteis de páginas HTML.\n",
    "\n",
    "Vamos conferir outra página mais completa?! Faremos a requisição da página de notícias de Ciência da Exame https://exame.com/ciencia/"
   ]
  },
  {
   "cell_type": "code",
   "execution_count": null,
   "id": "endless-authentication",
   "metadata": {},
   "outputs": [],
   "source": [
    "resposta = requests.get(url = 'https://exame.com/ciencia/')\n",
    "\n",
    "print(resposta.text)"
   ]
  },
  {
   "cell_type": "markdown",
   "id": "entertaining-ownership",
   "metadata": {},
   "source": [
    "## Outras opções\n",
    "Algumas opções interessantes de **API** para uso em aplicações.\n",
    "- Twitter API https://developer.twitter.com/en/docs/twitter-api\n",
    "- Here Geocoding https://developer.here.com/sign-up e https://developer.here.com/c/geocoding\n",
    "- OpenAI https://openai.com/blog/introducing-chatgpt-and-whisper-apis"
   ]
  }
 ],
 "metadata": {
  "kernelspec": {
   "display_name": "Python 3 (ipykernel)",
   "language": "python",
   "name": "python3"
  },
  "language_info": {
   "codemirror_mode": {
    "name": "ipython",
    "version": 3
   },
   "file_extension": ".py",
   "mimetype": "text/x-python",
   "name": "python",
   "nbconvert_exporter": "python",
   "pygments_lexer": "ipython3",
   "version": "3.8.16"
  }
 },
 "nbformat": 4,
 "nbformat_minor": 5
}
